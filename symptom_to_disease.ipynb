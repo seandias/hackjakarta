{
 "cells": [
  {
   "cell_type": "code",
   "execution_count": 2,
   "id": "93977686-dd5a-47e4-980d-8ce4249ba42a",
   "metadata": {},
   "outputs": [],
   "source": [
    "import openai\n",
    "import os\n",
    "from openai import OpenAI\n",
    "\n",
    "OPEN_AI_KEY = ''\n",
    "openai.api_key = OPEN_AI_KEY"
   ]
  },
  {
   "cell_type": "code",
   "execution_count": 36,
   "id": "acc5983e-bf1f-4349-8276-ff1d35f10c68",
   "metadata": {},
   "outputs": [],
   "source": [
    "def symptoms_to_diagnosis(string):\n",
    "    prompt = f\"\"\"\n",
    "    Acting as a medical professional with over 20 years of experience in the medical field, given the patient has these symptoms\n",
    "    {string}\n",
    "    what could the condition could the patient be calling emergency services for(do not need to discribe the condition as it is going to\n",
    "    be read by medical professionals. Just give the 2 possible conditions the victim could have.)\n",
    "    \n",
    "    \"\"\"\n",
    "\n",
    "    response = openai.chat.completions.create(\n",
    "        model=\"gpt-4o\",\n",
    "        messages=[\n",
    "            {\"role\": \"system\", \"content\": \"I am here to help you create your cypher nodes.\"},\n",
    "            {\"role\": \"user\", \"content\": prompt}\n",
    "        ],\n",
    "        temperature=0\n",
    "    )\n",
    "    \n",
    "    summary = response.choices[0].message.content\n",
    "    formatted_output = f\"Symptoms: {string}\\nPossible diagnosis: {summary}\"\n",
    "    return formatted_output"
   ]
  },
  {
   "cell_type": "markdown",
   "id": "01b74b07-9787-4408-93f6-d80002b00ec8",
   "metadata": {},
   "source": [
    "**EXAMPLE USE**"
   ]
  },
  {
   "cell_type": "code",
   "execution_count": 16,
   "id": "b472a7a9-d74e-4a7e-bd8d-e05b86b20997",
   "metadata": {},
   "outputs": [],
   "source": [
    "symptoms_noted = 'severe chest pain, shortness of breath, sweating'"
   ]
  },
  {
   "cell_type": "code",
   "execution_count": 38,
   "id": "5a72deb8-0229-4839-a21f-6b41ae912a4b",
   "metadata": {},
   "outputs": [
    {
     "name": "stdout",
     "output_type": "stream",
     "text": [
      "Symptoms: severe chest pain, shortness of breath, sweating\n",
      "Possible diagnosis: 1. Myocardial Infarction (Heart Attack)\n",
      "2. Pulmonary Embolism\n"
     ]
    }
   ],
   "source": [
    "print(symptoms_to_diagnosis(symptoms_noted))"
   ]
  },
  {
   "cell_type": "code",
   "execution_count": 40,
   "id": "2302c19f-e9fc-4072-9cfd-86c778dc9c83",
   "metadata": {},
   "outputs": [],
   "source": [
    "symptoms2 = 'high fever, severe headache, stiff neck, sensitivity to light'"
   ]
  },
  {
   "cell_type": "code",
   "execution_count": 42,
   "id": "5fcd2a2c-d366-4f18-8218-185f0309896e",
   "metadata": {},
   "outputs": [
    {
     "name": "stdout",
     "output_type": "stream",
     "text": [
      "Symptoms: high fever, severe headache, stiff neck, sensitivity to light\n",
      "Possible diagnosis: 1. Meningitis\n",
      "2. Encephalitis\n"
     ]
    }
   ],
   "source": [
    "print(symptoms_to_diagnosis(symptoms2))"
   ]
  },
  {
   "cell_type": "code",
   "execution_count": null,
   "id": "559fb345-9892-474c-9d9f-e2018d99e207",
   "metadata": {},
   "outputs": [],
   "source": []
  }
 ],
 "metadata": {
  "kernelspec": {
   "display_name": "Python 3 (ipykernel)",
   "language": "python",
   "name": "python3"
  },
  "language_info": {
   "codemirror_mode": {
    "name": "ipython",
    "version": 3
   },
   "file_extension": ".py",
   "mimetype": "text/x-python",
   "name": "python",
   "nbconvert_exporter": "python",
   "pygments_lexer": "ipython3",
   "version": "3.10.13"
  }
 },
 "nbformat": 4,
 "nbformat_minor": 5
}
